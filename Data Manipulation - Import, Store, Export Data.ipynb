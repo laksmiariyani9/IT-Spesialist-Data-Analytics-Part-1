{
 "cells": [
  {
   "cell_type": "markdown",
   "id": "83af0d52-9a59-4829-b47c-aa5eb968eff4",
   "metadata": {},
   "source": [
    "## Import, Store, and Export Data"
   ]
  },
  {
   "cell_type": "markdown",
   "id": "ace4f469-2e4d-47a2-b486-c1531c2f3f3d",
   "metadata": {},
   "source": [
    "a. Importing Data\n",
    "  - Definition: Importing data involves bringing data from external sources into a data analytics environment. These sources could include databases, spreadsheets, APIs, or streaming sources.\n",
    "  - Purpose: Data importation is the first step in the data analysis pipeline. It allows analysts to access the raw data they need for analysis.\n",
    "  - Methods: Data can be imported using various methods such as file uploads, database connections, API calls, or data streaming protocols.\n",
    "  - Challenges: Ensuring data quality, handling large volumes of data efficiently, and dealing with diverse data formats are common challenges in data importation.\n",
    "\n",
    "b. Storing Data\n",
    "  - Definition: Storing data involves saving imported data in a structured and organized manner within a data storage system. This system could be a database, a data warehouse, or a data lake.\n",
    "  - Purpose: Storing data allows for easy access, retrieval, and manipulation of data for analysis. It also provides a centralized repository for storing large volumes of data.\n",
    "  - Methods: Data can be stored using various storage technologies, including relational databases, NoSQL databases, cloud storage services, and distributed file systems.\n",
    "  - Considerations: Factors such as data security, scalability, performance, and cost need to be considered when choosing a data storage solution.\n",
    "\n",
    "c. Exporting Data\n",
    "  - Definition: Exporting data involves transferring data from a data analytics environment to external destinations or systems. These destinations could include other databases, applications, visualization tools, or file formats.\n",
    "  - Purpose: Exporting data allows analysts to share insights, reports, or processed data with stakeholders, integrate data with other systems, or archive data for future use.\n",
    "  - Methods: Data can be exported in various formats such as CSV, Excel, JSON, SQL, or through APIs and integration platforms.\n",
    "  - Considerations: Data privacy, security, and compliance with regulations such as GDPR or HIPAA are crucial considerations when exporting data, especially when sharing sensitive information.e information."
   ]
  },
  {
   "cell_type": "markdown",
   "id": "5e4b3815-c822-4247-a21f-a392da475f5a",
   "metadata": {},
   "source": [
    "#### Using Python (Pandas) for CSV Files :"
   ]
  },
  {
   "cell_type": "code",
   "execution_count": null,
   "id": "9505318e-814e-4c2f-b9b1-b81f5bc0fe86",
   "metadata": {},
   "outputs": [],
   "source": [
    "import pandas as pd\n",
    "    \n",
    "# Import data from CSV file\n",
    "df = pd.read_csv('data.csv')\n",
    "    \n",
    "# Store data to SQL database\n",
    "df.to_sql('table_name', connection_object)\n",
    "    \n",
    "# Export data to CSV file\n",
    "df.to_csv('exported_data.csv', index=False)"
   ]
  },
  {
   "cell_type": "markdown",
   "id": "90191558-f8f4-4019-b1b8-2f26cf4637c8",
   "metadata": {},
   "source": [
    "#### Using SQL for Database Import/Export :"
   ]
  },
  {
   "cell_type": "code",
   "execution_count": null,
   "id": "a35781a1-5700-4730-bf11-771d5b52c652",
   "metadata": {},
   "outputs": [],
   "source": [
    "# Import data from CSV file into SQL database\n",
    "LOAD DATA INFILE 'data.csv' INTO TABLE table_name FIELDS TERMINATED BY ',' LINES TERMINATED BY '\\n';\n",
    "    \n",
    "# Export data from SQL database to CSV file\n",
    "SELECT * INTO OUTFILE 'exported_data.csv' FIELDS TERMINATED BY ',' LINES TERMINATED BY '\\n' FROM table_name;"
   ]
  },
  {
   "cell_type": "markdown",
   "id": "3205fadc-ef5b-42ef-97aa-f42edf4aabf6",
   "metadata": {},
   "source": [
    "#### Using Microsoft Excel (Power Query) for Import/Export :"
   ]
  },
  {
   "cell_type": "code",
   "execution_count": null,
   "id": "93e6737e-ddac-4655-a178-3e12a915f9bc",
   "metadata": {},
   "outputs": [],
   "source": [
    "let\n",
    "    Source = Csv.Document(File.Contents(\"data.csv\"),[Delimiter=\",\", Columns=4, Encoding=1252, QuoteStyle=QuoteStyle.None]),\n",
    "    table = Table.FromList(Source, Splitter.SplitByNothing(), null, null, ExtraValues.Error),\n",
    "    #\"Changed Type\" = Table.TransformColumnTypes(table,{{\"Column1\", type text}, {\"Column2\", type text}, {\"Column3\", type text}, {\"Column4\", type text}}),\n",
    "    #\"Exported Data\" = Table.ToCsv(#\"Changed Type\", \"exported_data.csv\")\n",
    "in\n",
    "    #\"Exported Data\""
   ]
  },
  {
   "cell_type": "markdown",
   "id": "33b837e5-2453-4de6-8177-6c4e51d70a8e",
   "metadata": {},
   "source": [
    "#### Common Data Storage File Formats:"
   ]
  },
  {
   "cell_type": "markdown",
   "id": "9cd81da0-f692-4d0b-92aa-7f6910fd9ff5",
   "metadata": {},
   "source": [
    "a) Delimited Data Files (CSV): Delimiter-separated values, commonly comma-separated (CSV) or tab-separated (TSV).\n",
    "- Example : data.csv"
   ]
  },
  {
   "cell_type": "markdown",
   "id": "2386dda8-bc04-43e1-aef3-a37a1bb2e276",
   "metadata": {},
   "source": [
    "b) XML (eXtensible Markup Language): Stores data in a structured format using tags.\n",
    "- Example : data.xml"
   ]
  },
  {
   "cell_type": "code",
   "execution_count": null,
   "id": "56ddfee8-5404-4870-b71b-1fd850d9b216",
   "metadata": {},
   "outputs": [],
   "source": [
    "# Example Structure :\n",
    "\n",
    "<data>\n",
    "        <record>\n",
    "            <id>1</id>\n",
    "            <name>John</name>\n",
    "            <age>30</age>\n",
    "        </record>\n",
    "        <record>\n",
    "            <id>2</id>\n",
    "            <name>Jane</name>\n",
    "            <age>25</age>\n",
    "        </record>\n",
    "    </data>"
   ]
  },
  {
   "cell_type": "markdown",
   "id": "70044389-8c2d-4fd4-b13d-3a6dadbcdb69",
   "metadata": {},
   "source": [
    "c) JSON (JavaScript Object Notation): Stores data in a lightweight, human-readable format.\n",
    "- Example: data.json"
   ]
  },
  {
   "cell_type": "code",
   "execution_count": null,
   "id": "22263241-4742-4a62-bb17-8ff7528cd9f9",
   "metadata": {},
   "outputs": [],
   "source": [
    "# Example Structure:\n",
    "[\n",
    "    {\"id\": 1, \"name\": \"John\", \"age\": 30},\n",
    "    {\"id\": 2, \"name\": \"Jane\", \"age\": 25}\n",
    "]"
   ]
  }
 ],
 "metadata": {
  "kernelspec": {
   "display_name": "Python 3 (ipykernel)",
   "language": "python",
   "name": "python3"
  },
  "language_info": {
   "codemirror_mode": {
    "name": "ipython",
    "version": 3
   },
   "file_extension": ".py",
   "mimetype": "text/x-python",
   "name": "python",
   "nbconvert_exporter": "python",
   "pygments_lexer": "ipython3",
   "version": "3.11.7"
  }
 },
 "nbformat": 4,
 "nbformat_minor": 5
}
