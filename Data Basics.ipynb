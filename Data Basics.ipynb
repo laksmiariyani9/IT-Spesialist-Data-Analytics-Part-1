{
 "cells": [
  {
   "cell_type": "markdown",
   "id": "50dffbe9-96de-4395-ab8c-7efeb0b85a0d",
   "metadata": {},
   "source": [
    "# Data Basics in Data Alaytics"
   ]
  },
  {
   "cell_type": "markdown",
   "id": "90acbb0a-444a-4f5b-9c15-c11c066de45a",
   "metadata": {},
   "source": [
    "#### Define the Concept of Data\n",
    "Data refers to raw facts, figures, or information that can be processed to gain insights or knowledge. It can be anything from numbers and text to images and videos."
   ]
  },
  {
   "cell_type": "markdown",
   "id": "5e2cea81-7c17-4822-9cab-fe075ef56f48",
   "metadata": {},
   "source": [
    "#### Describe Basic Data Variable Types\n",
    "1) Boolean\n",
    "    - Definition: Boolean data type represents two possible values: true or false.\n",
    "2) Numeric\n",
    "    - Definition: Numeric data types represent numbers and can be further categorized into integers and floating-point numbers.\n",
    "3) String\n",
    "    - Definition: String data type represents textual data, consisting of a sequence of characters."
   ]
  },
  {
   "cell_type": "markdown",
   "id": "2de04ce6-2e3e-4ed1-887a-eaad75411498",
   "metadata": {},
   "source": [
    "Example :"
   ]
  },
  {
   "cell_type": "code",
   "execution_count": null,
   "id": "9c895791-2409-4178-ad81-ce1622972896",
   "metadata": {},
   "outputs": [],
   "source": [
    "# Boolean\n",
    "\n",
    "is_valid = True"
   ]
  },
  {
   "cell_type": "code",
   "execution_count": null,
   "id": "c22199cf-f43a-44a3-9155-5d998b53ffb0",
   "metadata": {},
   "outputs": [],
   "source": [
    "# Numeric\n",
    "\n",
    "age = 25\n",
    "height = 1.75"
   ]
  },
  {
   "cell_type": "code",
   "execution_count": null,
   "id": "59dac643-c942-455f-8a55-8ef538ede97f",
   "metadata": {},
   "outputs": [],
   "source": [
    "# String\n",
    "\n",
    "name = \"John Doe\""
   ]
  },
  {
   "cell_type": "markdown",
   "id": "16fd469d-3eaa-4e87-a3fc-bb7a1063a284",
   "metadata": {},
   "source": [
    "#### Describe Basic Structures Used in Data Analytics\n",
    "1) Tables\n",
    "    - Definition: Tables organize data into rows and columns, providing a structured way to store and manipulate data.\n",
    "2) Rows and Columns\n",
    "    - Definition: Rows represent individual records in a table, while columns represent attributes or fields of the data.\n",
    "3) Lists\n",
    "    - Definition: Lists are ordered collections of elements that can be of different types."
   ]
  },
  {
   "cell_type": "markdown",
   "id": "536b14d3-ce50-4473-8d17-e0852e2b48d1",
   "metadata": {},
   "source": [
    "Example :"
   ]
  },
  {
   "cell_type": "code",
   "execution_count": null,
   "id": "37099475-df2a-4585-9cb7-bfe26305bf6d",
   "metadata": {},
   "outputs": [],
   "source": [
    "# Tables\n",
    "\n",
    "import pandas as pd\n",
    "\n",
    "        data = {'id': [1, 2, 3],\n",
    "                'name': ['John', 'Jane', 'Doe'],\n",
    "                'age': [25, 30, 35]}\n",
    "        df = pd.DataFrame(data)\n",
    "        df"
   ]
  },
  {
   "cell_type": "code",
   "execution_count": null,
   "id": "6ba6bbf6-241c-4554-97ad-b5bb92db822b",
   "metadata": {},
   "outputs": [],
   "source": [
    "# Rows and Columns"
   ]
  },
  {
   "cell_type": "code",
   "execution_count": null,
   "id": "cc418fa9-f0b9-4bbd-9cd2-59eeaab94996",
   "metadata": {},
   "outputs": [],
   "source": [
    "# Lists\n",
    "\n",
    "numbers = [1, 2, 3, 4, 5]\n",
    "numbers"
   ]
  },
  {
   "cell_type": "markdown",
   "id": "c7387021-156b-4771-99e9-555a52442154",
   "metadata": {},
   "source": [
    "#### Describe Data Categories:\n",
    "  - Qualitative Data:\n",
    "    - Definition: Qualitative data describes qualities or characteristics and is non-numeric.\n",
    "    - Example: Gender (Male, Female), Color (Red, Blue, Green).\n",
    "  - Quantitative Data:\n",
    "    - Definition: Quantitative data represents quantities or numerical measurements.\n",
    "    - Example: Height, Weight, Age.\n",
    "  - Structured Data:\n",
    "    - Definition: Structured data is organized and follows a specific schema or format.\n",
    "    - Example: Relational databases, CSV files.\n",
    "  - Unstructured Data:\n",
    "    - Definition: Unstructured data lacks a predefined structure and organization.\n",
    "    - Example: Text documents, Images, Videos.\n",
    "  - Metadata:\n",
    "    - Definition: Metadata provides information about other data.\n",
    "    - Example: File creation date, Data source, Data format.\n",
    "  - Big Data:\n",
    "    - Definition: Big Data refers to datasets that are too large or complex to be processed using traditional data processing applications.\n",
    "    - Example: Social media data, Sensor data, Genomic data."
   ]
  },
  {
   "cell_type": "markdown",
   "id": "5f66659d-54ca-499d-8fa2-02f0968be837",
   "metadata": {},
   "source": []
  },
  {
   "cell_type": "markdown",
   "id": "67d5757f-ef47-4ee6-b784-948c08bf0622",
   "metadata": {},
   "source": []
  }
 ],
 "metadata": {
  "kernelspec": {
   "display_name": "Python 3 (ipykernel)",
   "language": "python",
   "name": "python3"
  },
  "language_info": {
   "codemirror_mode": {
    "name": "ipython",
    "version": 3
   },
   "file_extension": ".py",
   "mimetype": "text/x-python",
   "name": "python",
   "nbconvert_exporter": "python",
   "pygments_lexer": "ipython3",
   "version": "3.11.7"
  }
 },
 "nbformat": 4,
 "nbformat_minor": 5
}
