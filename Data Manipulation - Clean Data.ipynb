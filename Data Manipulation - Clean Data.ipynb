{
 "cells": [
  {
   "cell_type": "markdown",
   "id": "f20c6135-8d99-4f55-9086-1d40e8a1f0a9",
   "metadata": {},
   "source": [
    "## Clean Data\n",
    "Purpose of Data Cleaning : Data cleaning aims to improve data quality by identifying and correcting errors, inconsistencies, and missing values."
   ]
  },
  {
   "cell_type": "markdown",
   "id": "ba1f919a-6eea-4473-a313-fbcfed9eab6c",
   "metadata": {},
   "source": [
    "#### Common Practices :"
   ]
  },
  {
   "cell_type": "markdown",
   "id": "7bed5828-7233-4576-b74d-b9213cc6cad6",
   "metadata": {},
   "source": [
    "- Handling NULL Values : Replace NULL values with a default value or fill them using statistical measures."
   ]
  },
  {
   "cell_type": "code",
   "execution_count": null,
   "id": "a8d7e188-833a-40da-8a75-6788e4a2fa5a",
   "metadata": {},
   "outputs": [],
   "source": [
    "# Handling NULL values in a DataFrame using Pandas\n",
    "df.fillna(0, inplace=True)  # Replace NULL values with 0"
   ]
  },
  {
   "cell_type": "markdown",
   "id": "3a730a4c-5bb2-45fc-b1cb-3e4d51c017c1",
   "metadata": {},
   "source": [
    "- Handling Special Characters : Remove or replace special characters that may cause issues during analysis."
   ]
  },
  {
   "cell_type": "code",
   "execution_count": null,
   "id": "aea2dd12-2608-4204-b678-d134a46de5d9",
   "metadata": {},
   "outputs": [],
   "source": [
    "# Removing special characters from a column in a DataFrame using Pandas\n",
    "df['column_name'] = df['column_name'].str.replace('[^a-zA-Z0-9]', '')"
   ]
  },
  {
   "cell_type": "markdown",
   "id": "465565b3-f6e8-47b4-9193-e096ba95bccb",
   "metadata": {},
   "source": [
    "- Trimming Spaces : Remove leading and trailing spaces from text data."
   ]
  },
  {
   "cell_type": "code",
   "execution_count": null,
   "id": "657fd8ec-6280-476d-8280-f87f20164cd5",
   "metadata": {},
   "outputs": [],
   "source": [
    "# Trimming spaces from a column in a DataFrame using Pandas\n",
    "df['column_name'] = df['column_name'].str.strip()"
   ]
  },
  {
   "cell_type": "markdown",
   "id": "bd13cee4-aebe-476b-a088-e85a47382e8a",
   "metadata": {},
   "source": [
    "- Inconsistent Formatting : Standardize data formats to ensure consistency."
   ]
  },
  {
   "cell_type": "code",
   "execution_count": null,
   "id": "90102eb1-b9af-4683-8617-59e26bc79257",
   "metadata": {},
   "outputs": [],
   "source": [
    "# Converting text data to lowercase in a column using Pandas\n",
    "df['column_name'] = df['column_name'].str.lower()"
   ]
  },
  {
   "cell_type": "markdown",
   "id": "5886ec14-00f6-43bc-bdb3-392641c339e9",
   "metadata": {},
   "source": [
    "- Removing Duplicates : Identify and remove duplicate records from the dataset."
   ]
  },
  {
   "cell_type": "code",
   "execution_count": null,
   "id": "c07770f5-c893-4a6c-958d-1007e1b7a7e7",
   "metadata": {},
   "outputs": [],
   "source": [
    "# Removing duplicates from a DataFrame using Pandas\n",
    "df.drop_duplicates(inplace=True)"
   ]
  },
  {
   "cell_type": "markdown",
   "id": "2fe6d1c7-dc2f-439c-8392-30d037ead806",
   "metadata": {},
   "source": [
    "- Imputing Data : Fill missing values with estimated or calculated values."
   ]
  },
  {
   "cell_type": "code",
   "execution_count": null,
   "id": "252f22b6-8f31-4687-958d-a2e364b9648b",
   "metadata": {},
   "outputs": [],
   "source": [
    "# Imputing missing values with mean in a DataFrame using Pandas\n",
    "mean_value = df['column_name'].mean()\n",
    "df['column_name'].fillna(mean_value, inplace=True)"
   ]
  },
  {
   "cell_type": "markdown",
   "id": "b13f16e3-fdb8-4260-acd1-5a2cac7804fe",
   "metadata": {},
   "source": [
    "#### Validating Data"
   ]
  },
  {
   "cell_type": "markdown",
   "id": "6702b8b4-5f01-497c-aa4a-a26addb4e7b1",
   "metadata": {},
   "source": [
    "- Definition : Data validation ensures that the data meets certain quality standards or criteria."
   ]
  },
  {
   "cell_type": "code",
   "execution_count": null,
   "id": "5368e22d-c9be-4912-bb56-39996bf53b96",
   "metadata": {},
   "outputs": [],
   "source": [
    "# Validating data to check for NULL values in a DataFrame using Pandas\n",
    "if df.isnull().values.any():\n",
    "    print(\"Data contains NULL values.\")\n",
    "else:\n",
    "    print(\"Data is valid.\")"
   ]
  }
 ],
 "metadata": {
  "kernelspec": {
   "display_name": "Python 3 (ipykernel)",
   "language": "python",
   "name": "python3"
  },
  "language_info": {
   "codemirror_mode": {
    "name": "ipython",
    "version": 3
   },
   "file_extension": ".py",
   "mimetype": "text/x-python",
   "name": "python",
   "nbconvert_exporter": "python",
   "pygments_lexer": "ipython3",
   "version": "3.11.7"
  }
 },
 "nbformat": 4,
 "nbformat_minor": 5
}
